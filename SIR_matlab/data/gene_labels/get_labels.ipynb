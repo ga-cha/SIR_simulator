{
 "cells": [
  {
   "cell_type": "code",
   "execution_count": 1,
   "metadata": {},
   "outputs": [],
   "source": [
    "import pandas as pd\n",
    "import numpy as np"
   ]
  },
  {
   "cell_type": "code",
   "execution_count": 81,
   "metadata": {},
   "outputs": [
    {
     "name": "stdout",
     "output_type": "stream",
     "text": [
      "unique entries: 221\n",
      "entries occurring in abagen: 204\n",
      "unique entries: 185\n",
      "entries occurring in abagen: 147\n"
     ]
    }
   ],
   "source": [
    "all_genes = pd.read_csv('all_annotated_AHBA_GO_genes.csv')\n",
    "autophagy = pd.read_csv('AMIGO2_out/GO_autophagy.txt', sep='\\t', header=None)\n",
    "lys_transport = pd.read_csv('AMIGO2_out/GO_lysosomal_transport.txt', sep='\\t', header=None)\n",
    "lysosome = pd.read_csv('AMIGO2_out/GO_lysosome.txt', sep='\\t', header=None)\n",
    "ubq = pd.read_csv('AMIGO2_out/GO_ubq_ligase.txt', sep='\\t', header=None)\n",
    "\n",
    "lys = pd.concat([autophagy, lys_transport, lysosome])\n",
    "genes = set(all_genes['genes'])\n",
    "\n",
    "for dataset, dataset_name in zip([lys, ubq], ['lys', 'ubq']):\n",
    "    print('unique entries:', len(set(dataset[2])))\n",
    "\n",
    "    # Stitch together gene names and aliases from AMIGO2 output\n",
    "    dataset = set(dataset[2]) | set(dataset[10].dropna().str.split('|').sum())\n",
    "    print('entries occurring in abagen:', len(dataset & genes))\n",
    "    \n",
    "    if dataset_name == 'lys':\n",
    "        # decide if overlaps (identified in cell 4) are lys or ubq-associated\n",
    "        dataset = dataset - {'MARCHF1', 'RFFL', 'NEDD4', 'RNF152', 'RNF167'}\n",
    "    else:\n",
    "        dataset = dataset - {'VPS11', 'VPS18'}\n",
    "\n",
    "    out_df = pd.DataFrame(list(dataset & genes))\n",
    "    out_df.to_csv('GO_' + dataset_name + '.csv', index=False, header=False)"
   ]
  },
  {
   "cell_type": "code",
   "execution_count": null,
   "metadata": {},
   "outputs": [],
   "source": [
    "# GO tagged lysosome, no abagen hits {'RAB38', 'HPSE', 'GBA1', 'ELAPOR1', 'CTSG', 'L1RE1', 'KCNE1', 'AKR1B10', \n",
    "# 'MARCHF3', 'TP53', 'KICS2', 'CST7', 'CD1D', 'HYAL1', 'KCNE2', 'abeta-42-oligomer_human', 'LYSET', \n",
    "# 'MARCHF1', 'S100A9', 'BECN2', 'IRGQ', 'RFFL', 'CHMP3', 'escrt-iii_human', 'LARS1', 'RAB27A', 'MARCHF8'}\n",
    "\n",
    "# GO tagged ubq, no abagen hits {'RNF183', 'TRIM63', 'TRIM6', 'ASB12', 'RNF39', 'MARCHF6', 'SH3RF3',\n",
    "# 'DCST1', 'MARCHF2', 'TRIM31', 'MARCHF1', 'UBE3B', 'RNF186', 'MARCHF5', 'SH3RF2', 'MARCHF7', 'TRIM55', \n",
    "# 'RFFL', 'CBLC', 'NEURL3'}"
   ]
  },
  {
   "cell_type": "code",
   "execution_count": null,
   "metadata": {},
   "outputs": [
    {
     "name": "stdout",
     "output_type": "stream",
     "text": [
      "Overlap between lys and ubq: {'MARCHF1', 'RFFL', 'NEDD4', 'VPS11', 'VPS18', 'RNF152', 'RNF167'}\n"
     ]
    }
   ],
   "source": [
    "# For manual removal of duplicates\n",
    "print(\"Overlap between lys and ubq:\", ubq & lys)\n"
   ]
  }
 ],
 "metadata": {
  "kernelspec": {
   "display_name": "base",
   "language": "python",
   "name": "python3"
  },
  "language_info": {
   "codemirror_mode": {
    "name": "ipython",
    "version": 3
   },
   "file_extension": ".py",
   "mimetype": "text/x-python",
   "name": "python",
   "nbconvert_exporter": "python",
   "pygments_lexer": "ipython3",
   "version": "3.8.5"
  }
 },
 "nbformat": 4,
 "nbformat_minor": 2
}
