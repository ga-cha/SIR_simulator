{
 "cells": [
  {
   "cell_type": "code",
   "execution_count": 1,
   "metadata": {},
   "outputs": [],
   "source": [
    "import pandas as pd"
   ]
  },
  {
   "cell_type": "code",
   "execution_count": 5,
   "metadata": {},
   "outputs": [
    {
     "name": "stdout",
     "output_type": "stream",
     "text": [
      "Error at line 107: 102,102,102,102,102,102,102,102,103,103,103,103,103,103,103,103,103,103,103,103,103,103,103,103,103,103,103,103\n",
      "\n",
      "Error message: Error tokenizing data. C error: Expected 20 fields in line 107, saw 28\n",
      "\n"
     ]
    }
   ],
   "source": [
    "try:\n",
    "    df = pd.read_csv('test.csv')\n",
    "except pd.errors.ParserError as e:\n",
    "    error_line = int(str(e).split('line ')[1].split(',')[0])\n",
    "    with open('test.csv', 'r') as file:\n",
    "        lines = file.readlines()\n",
    "        bad_line = lines[error_line - 1]\n",
    "        print(f\"Error at line {error_line}: {bad_line}\")\n",
    "        print(f\"Error message: {e}\")\n"
   ]
  },
  {
   "cell_type": "code",
   "execution_count": null,
   "metadata": {},
   "outputs": [],
   "source": []
  }
 ],
 "metadata": {
  "kernelspec": {
   "display_name": "base",
   "language": "python",
   "name": "python3"
  },
  "language_info": {
   "codemirror_mode": {
    "name": "ipython",
    "version": 3
   },
   "file_extension": ".py",
   "mimetype": "text/x-python",
   "name": "python",
   "nbconvert_exporter": "python",
   "pygments_lexer": "ipython3",
   "version": "3.8.5"
  }
 },
 "nbformat": 4,
 "nbformat_minor": 2
}
