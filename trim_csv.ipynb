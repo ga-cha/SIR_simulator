{
 "cells": [
  {
   "cell_type": "code",
   "execution_count": 6,
   "id": "d8b90d80-20be-4256-982b-55a485a9fefd",
   "metadata": {},
   "outputs": [],
   "source": [
    "import pandas as pd\n",
    "import numpy as np\n",
    "\n",
    "expr_by_roi = pd.read_csv(\"./dk_roi_gene_expr_z.csv\")\n",
    "\n",
    "# [0:33]  indexes the 34 LH cortical regions   (#01-34)\n",
    "# [34:40] indexes the 7 LH subcortical regions (#35-41)\n",
    "# [82]    indexes the brainstem                   (#83)\n",
    "# for total 42 regions with single parcellated image\n",
    "\n",
    "# seems to be #72/73ish have no data, so brainstem ends up as #81"
   ]
  },
  {
   "cell_type": "code",
   "execution_count": 28,
   "id": "3f4e758d-4619-4302-97b1-eb9c69459d17",
   "metadata": {},
   "outputs": [],
   "source": [
    "fifty_genes = expr_by_roi.iloc[np.r_[:41,81], np.r_[:50]]\n",
    "all_genes = expr_by_roi.iloc[np.r_[:41,81],:]\n",
    "\n",
    "fifty_genes.to_csv(\"./dk_roi_gene_50_expr_z.csv\", index=False)\n",
    "all_genes.to_csv(\"./dk_roi_gene_expr_z.csv\", index=False)\n",
    "\n",
    "# print (fifty_genes)"
   ]
  }
 ],
 "metadata": {
  "kernelspec": {
   "display_name": "Python 3 (ipykernel)",
   "language": "python",
   "name": "python3"
  },
  "language_info": {
   "codemirror_mode": {
    "name": "ipython",
    "version": 3
   },
   "file_extension": ".py",
   "mimetype": "text/x-python",
   "name": "python",
   "nbconvert_exporter": "python",
   "pygments_lexer": "ipython3",
   "version": "3.11.4"
  }
 },
 "nbformat": 4,
 "nbformat_minor": 5
}
