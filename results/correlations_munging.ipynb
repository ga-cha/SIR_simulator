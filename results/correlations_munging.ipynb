{
 "cells": [
  {
   "cell_type": "code",
   "execution_count": 1,
   "metadata": {},
   "outputs": [],
   "source": [
    "import pandas as pd\n",
    "import matplotlib.pyplot as plt"
   ]
  },
  {
   "cell_type": "code",
   "execution_count": 2,
   "metadata": {},
   "outputs": [],
   "source": [
    "corr_df = pd.read_csv('gene_corrs.csv')"
   ]
  },
  {
   "cell_type": "code",
   "execution_count": 3,
   "metadata": {},
   "outputs": [
    {
     "name": "stdout",
     "output_type": "stream",
     "text": [
      "         risk gene clearance gene   correlation      t\n",
      "7866353    RASL10A       TMEM179B  2.777284e-07   1842\n",
      "4167656      HAR1A           CCT8  2.901061e-07    836\n",
      "2234840      UBXN6          RAB2A  3.296706e-07   1891\n",
      "16414990     ACAP2        SH3KBP1  3.382690e-07  10000\n",
      "13109076    HEATR4         CTNNB1  3.745360e-07  10000 \n",
      "          risk gene clearance gene  correlation     t\n",
      "2019166    CCDC134           NKG7     0.797050   263\n",
      "10944036     PPEF1           CKS2     0.797050   381\n",
      "2019167    ANKRD29           NKG7     0.797059   271\n",
      "2019168       GALP           NKG7     0.797076   234\n",
      "2019169     LMAN1L           NKG7     0.797087   242\n",
      "2019170      IGFL3           NKG7     0.797088   260\n",
      "2019171      IFT74           NKG7     0.797094   233\n",
      "2019172       LIAS           NKG7     0.797095   265\n",
      "7626487      RPTOR           NEU4     0.797098   253\n",
      "2019173       DTNA           NKG7     0.797101   257\n",
      "2019174      OR4D2           NKG7     0.797111   250\n",
      "2019175    ANAPC13           NKG7     0.797113   232\n",
      "2019176      PROP1           NKG7     0.797123   238\n",
      "2019177    CLEC12A           NKG7     0.797126   245\n",
      "10944037      DVL1           CKS2     0.797132   389\n",
      "1980146      EHMT2           GNLY     0.797140  1474\n",
      "2630646    GPATCH2         PLA2G5     0.797335   412\n",
      "2630647     DNAJB7         PLA2G5     0.797397   459\n",
      "1980147     ZNF211           GNLY     0.800320  1238\n",
      "1850047       BTG2           SRGN     0.806763  1166 \n",
      " 16025801\n"
     ]
    }
   ],
   "source": [
    "corr_df = corr_df.sort_values(by='correlation')\n",
    "corr_df = corr_df[corr_df['correlation'] != 0]\n",
    "\n",
    "corr_df.tail(1000).to_csv(\"lysosomal_corrs.csv\")\n",
    "print(corr_df.head(), \"\\n\", corr_df.tail(20), \"\\n\", len(corr_df))"
   ]
  },
  {
   "cell_type": "code",
   "execution_count": 4,
   "metadata": {},
   "outputs": [
    {
     "data": {
      "image/png": "[encoded data removed]",
      "text/plain": [
       "<Figure size 432x288 with 1 Axes>"
      ]
     },
     "metadata": {
      "needs_background": "light"
     },
     "output_type": "display_data"
    }
   ],
   "source": [
    "plt.hist(corr_df['correlation'], bins=100)\n",
    "plt.show()"
   ]
  },
  {
   "cell_type": "code",
   "execution_count": 42,
   "metadata": {},
   "outputs": [
    {
     "name": "stdout",
     "output_type": "stream",
     "text": [
      "        risk gene clearance gene  correlation      t\n",
      "6434049     EHMT2          SPG11     0.004171   4385\n",
      "1009140     EHMT2           PRF1     0.005981   2112\n",
      "80876       EHMT2           WWOX     0.008916  10000\n",
      "3684972     EHMT2           M6PR     0.010593   2914\n",
      "8295827     EHMT2         OCIAD2     0.013387  10000\n",
      "...           ...            ...          ...    ...\n",
      "1328701     EHMT2         GPR155     0.756922    245\n",
      "8327836     EHMT2           GCC2     0.757399    282\n",
      "6387692     EHMT2           CTSK     0.757457    334\n",
      "4590687     EHMT2         IFITM1     0.784164    440\n",
      "1980146     EHMT2           GNLY     0.797140   1474\n",
      "\n",
      "[564 rows x 4 columns]\n"
     ]
    }
   ],
   "source": [
    "corr_REEP4 = corr_df[corr_df['risk gene'] == \"EHMT2\"]\n",
    "print(corr_REEP4)"
   ]
  },
  {
   "cell_type": "code",
   "execution_count": 5,
   "metadata": {},
   "outputs": [
    {
     "name": "stdout",
     "output_type": "stream",
     "text": [
      "         risk gene clearance gene  correlation     t\n",
      "15300040   TMEM223         RNF170     0.750000   706\n",
      "12175260     MON1B          MED30     0.750000   234\n",
      "10936822   SLC35B4           CKS2     0.750000   472\n",
      "12666591      LYAR          SMAD6     0.750000   538\n",
      "13882873      E2F1         SCAMP3     0.750000   338\n",
      "...            ...            ...          ...   ...\n",
      "1980146      EHMT2           GNLY     0.797140  1474\n",
      "2630646    GPATCH2         PLA2G5     0.797335   412\n",
      "2630647     DNAJB7         PLA2G5     0.797397   459\n",
      "1980147     ZNF211           GNLY     0.800320  1238\n",
      "1850047       BTG2           SRGN     0.806763  1166\n",
      "\n",
      "[192223 rows x 4 columns]\n",
      "GNLY       11895\n",
      "KEAP1       9186\n",
      "UBXN7       8859\n",
      "MED17       8303\n",
      "IFITM1      8127\n",
      "           ...  \n",
      "CPPED1         1\n",
      "FBXO5          1\n",
      "SPSB3          1\n",
      "TSPAN17        1\n",
      "REEP4          1\n",
      "Name: clearance gene, Length: 162, dtype: int64\n",
      "NR2F1       55\n",
      "DSP         52\n",
      "GPC2        51\n",
      "LAMA3       51\n",
      "ST6GAL2     49\n",
      "            ..\n",
      "BICD2        1\n",
      "ZMYM2        1\n",
      "C1orf109     1\n",
      "KCNA1        1\n",
      "NOTUM        1\n",
      "Name: risk gene, Length: 13007, dtype: int64\n"
     ]
    }
   ],
   "source": [
    "corr_df_75 = corr_df[corr_df['correlation'] > 0.75]\n",
    "print(corr_df_75)\n",
    "print(corr_df_75['clearance gene'].value_counts())\n",
    "print(corr_df_75['risk gene'].value_counts())\n"
   ]
  }
 ],
 "metadata": {
  "kernelspec": {
   "display_name": "Python 3",
   "language": "python",
   "name": "python3"
  },
  "language_info": {
   "codemirror_mode": {
    "name": "ipython",
    "version": 3
   },
   "file_extension": ".py",
   "mimetype": "text/x-python",
   "name": "python",
   "nbconvert_exporter": "python",
   "pygments_lexer": "ipython3",
   "version": "3.8.5"
  }
 },
 "nbformat": 4,
 "nbformat_minor": 4
}
