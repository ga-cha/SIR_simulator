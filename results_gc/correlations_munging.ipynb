{
 "cells": [
  {
   "cell_type": "code",
   "execution_count": 6,
   "metadata": {},
   "outputs": [],
   "source": [
    "import pandas as pd\n",
    "import matplotlib.pyplot as plt"
   ]
  },
  {
   "cell_type": "code",
   "execution_count": 7,
   "metadata": {},
   "outputs": [],
   "source": [
    "corr_df = pd.read_csv('gene_corrs.csv')"
   ]
  },
  {
   "cell_type": "code",
   "execution_count": 9,
   "metadata": {},
   "outputs": [
    {
     "name": "stdout",
     "output_type": "stream",
     "text": [
      "        risk gene clearance gene   correlation      t\n",
      "708203     BTN3A3        PIP4K2B  3.708944e-08    641\n",
      "1448844     UBXN6          RAB2A  3.296706e-07   1891\n",
      "2167666   CYP11B1           MTOR  9.998583e-07   2023\n",
      "3457172   ARHGDIB          ABCB6  1.190072e-06  10000\n",
      "4456319    ZDHHC7         MFSD12  2.747462e-06  10000 \n",
      "         risk gene clearance gene  correlation     t\n",
      "1786105   ANAPC13           NKG7     0.797113   232\n",
      "1786106     PROP1           NKG7     0.797123   238\n",
      "2068654     EHMT2           GNLY     0.797140  1474\n",
      "1564104   GPATCH2         PLA2G5     0.797335   412\n",
      "978826       BTG2           SRGN     0.806763  1166 \n",
      " 5644695\n"
     ]
    }
   ],
   "source": [
    "corr_df = corr_df.sort_values(by='correlation')\n",
    "corr_df = corr_df[corr_df['correlation'] != 0]\n",
    "\n",
    "corr_df.tail(1000).to_csv(\"lysosomal_corrs.csv\")\n",
    "print(corr_df.head(), \"\\n\", corr_df.tail(), \"\\n\", len(corr_df))"
   ]
  },
  {
   "cell_type": "code",
   "execution_count": 16,
   "metadata": {},
   "outputs": [
    {
     "data": {
      "image/png": "[encoded data removed]",
      "text/plain": [
       "<Figure size 432x288 with 1 Axes>"
      ]
     },
     "metadata": {
      "needs_background": "light"
     },
     "output_type": "display_data"
    }
   ],
   "source": [
    "plt.hist(corr_df['correlation'], bins=100)\n",
    "plt.show()"
   ]
  },
  {
   "cell_type": "code",
   "execution_count": 14,
   "metadata": {},
   "outputs": [
    {
     "name": "stdout",
     "output_type": "stream",
     "text": [
      "        risk gene clearance gene  correlation      t\n",
      "3430715     LAMP5         CHMP4C     0.012043  10000\n",
      "5862123     LAMP5        B4GALT1     0.015339  10000\n",
      "37806       LAMP5            CBL     0.015910   1109\n",
      "1200575     LAMP5            AGA     0.019476  10000\n",
      "6029807     LAMP5          NR4A3     0.025284  10000\n",
      "...           ...            ...          ...    ...\n",
      "2065169     LAMP5           GNLY     0.769596    778\n",
      "5700619     LAMP5           NEU4     0.772744    302\n",
      "3814363     LAMP5           GLB1     0.774579    402\n",
      "3567968     LAMP5         IFITM1     0.775724    354\n",
      "3854257     LAMP5         VPS13C     0.779933    319\n",
      "\n",
      "[585 rows x 4 columns]\n",
      "        risk gene clearance gene  correlation    t\n",
      "1745744     DACH1          HSPA8     0.458035  430\n",
      "1745745      GPX3          HSPA8     0.459036  238\n",
      "1745746    INO80C          HSPA8     0.466493  445\n",
      "1745747    FANCD2          HSPA8     0.474779  478\n",
      "1745748    RNF216          HSPA8     0.483131  453\n",
      "...           ...            ...          ...  ...\n",
      "1755829      PLAU          HSPA8     0.727433  432\n",
      "1755830      SNPH          HSPA8     0.728800  431\n",
      "1755831   CEACAM1          HSPA8     0.729140  495\n",
      "1755832       MNT          HSPA8     0.729189  408\n",
      "1755833     AARS2          HSPA8     0.729467  509\n",
      "\n",
      "[10090 rows x 4 columns]\n"
     ]
    }
   ],
   "source": [
    "corr_LAMP5 = corr_df[corr_df['risk gene'] == \"LAMP5\"]\n",
    "print(corr_LAMP5)\n",
    "corr_HSPA8 = corr_df[corr_df['clearance gene'] == \"HSPA8\"]\n",
    "print(corr_HSPA8)"
   ]
  },
  {
   "cell_type": "code",
   "execution_count": 29,
   "metadata": {},
   "outputs": [
    {
     "name": "stdout",
     "output_type": "stream",
     "text": [
      "        risk gene clearance gene  correlation      t\n",
      "5747784      RPA2           CTSC     0.330000  10000\n",
      "1352256     USP33           FTH1     0.330001    128\n",
      "5172305    CSF2RA         TECPR1     0.330001   8296\n",
      "2779432      MTX2          SEH1L     0.330002    817\n",
      "2779433    SLC4A8          SEH1L     0.330002    906\n",
      "...           ...            ...          ...    ...\n",
      "5570304     ARAP3        ATP6V1A     0.339999    244\n",
      "3750776    PHLDB1          LITAF     0.339999  10000\n",
      "17800       CD226          MAGT1     0.339999    566\n",
      "3311431   SLITRK3          STBD1     0.340000    173\n",
      "5334707     ZFP41           GPC2     0.340000    225\n",
      "\n",
      "[727351 rows x 4 columns]\n"
     ]
    }
   ],
   "source": [
    "corr_df_3x = corr_df[corr_df['correlation'] < 0.34]\n",
    "corr_df_3x = corr_df_3x[corr_df_3x['correlation'] > 0.33]\n",
    "\n",
    "print(corr_df_3x)\n",
    "\n"
   ]
  },
  {
   "cell_type": "code",
   "execution_count": 12,
   "metadata": {},
   "outputs": [
    {
     "name": "stdout",
     "output_type": "stream",
     "text": [
      "        risk gene clearance gene  correlation     t\n",
      "6079609     SRSF6           CTSK     0.750001   269\n",
      "2319494    ETNPPL           CTSB     0.750001   222\n",
      "6079610      GPN3           CTSK     0.750002   423\n",
      "3853262     TNPO3         VPS13C     0.750003   292\n",
      "4648308      THRA          CLVS2     0.750003   179\n",
      "...           ...            ...          ...   ...\n",
      "1786105   ANAPC13           NKG7     0.797113   232\n",
      "1786106     PROP1           NKG7     0.797123   238\n",
      "2068654     EHMT2           GNLY     0.797140  1474\n",
      "1564104   GPATCH2         PLA2G5     0.797335   412\n",
      "978826       BTG2           SRGN     0.806763  1166\n",
      "\n",
      "[66821 rows x 4 columns]\n",
      "GNLY       9185\n",
      "IFITM1     6334\n",
      "CTSK       5264\n",
      "GCC2       4407\n",
      "CLVS2      3643\n",
      "           ... \n",
      "VPS16         2\n",
      "HYAL3         2\n",
      "LAMTOR5       2\n",
      "SNX6          1\n",
      "CPPED1        1\n",
      "Name: clearance gene, Length: 74, dtype: int64\n",
      "NR2F1      26\n",
      "GPC2       24\n",
      "DSP        24\n",
      "IL1B       23\n",
      "ST6GAL2    23\n",
      "           ..\n",
      "USH1C       1\n",
      "QPCT        1\n",
      "POLRMT      1\n",
      "NDUFAF7     1\n",
      "PMAIP1      1\n",
      "Name: risk gene, Length: 10069, dtype: int64\n"
     ]
    }
   ],
   "source": [
    "corr_df_75 = corr_df[corr_df['correlation'] > 0.75]\n",
    "print(corr_df_75)\n",
    "print(corr_df_75['clearance gene'].value_counts())\n",
    "print(corr_df_75['risk gene'].value_counts())\n"
   ]
  },
  {
   "cell_type": "code",
   "execution_count": null,
   "metadata": {},
   "outputs": [],
   "source": []
  }
 ],
 "metadata": {
  "kernelspec": {
   "display_name": "Python 3",
   "language": "python",
   "name": "python3"
  },
  "language_info": {
   "codemirror_mode": {
    "name": "ipython",
    "version": 3
   },
   "file_extension": ".py",
   "mimetype": "text/x-python",
   "name": "python",
   "nbconvert_exporter": "python",
   "pygments_lexer": "ipython3",
   "version": "3.8.5"
  }
 },
 "nbformat": 4,
 "nbformat_minor": 4
}
